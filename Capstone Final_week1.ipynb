{
 "cells": [
  {
   "cell_type": "markdown",
   "metadata": {},
   "source": [
    "# Where to open a new Japanese restaurant in Vancouver?\n",
    "#### The Battle of the Neighborhoods -Applied Data Science Capstone by IBM/Coursera\n",
    "#### By Paola Segundo "
   ]
  },
  {
   "cell_type": "markdown",
   "metadata": {},
   "source": [
    "![Japanese](https://vancouver.foodiepulse.com/wp-content/uploads/2019/04/seiza-japanese.jpg)"
   ]
  },
  {
   "cell_type": "markdown",
   "metadata": {},
   "source": [
    "## Table of contents\n",
    "* [Introduction: Business Problem](#introduction)\n",
    "* [Data](#data)\n",
    "* [Methodology](#methodology)\n",
    "* [Analysis](#analysis)\n",
    "* [Results and Discussion](#results)\n",
    "* [Conclusion](#conclusion)"
   ]
  },
  {
   "cell_type": "markdown",
   "metadata": {},
   "source": [
    "## Introduction: Business Problem <a name=\"introduction\"></a>"
   ]
  },
  {
   "cell_type": "markdown",
   "metadata": {},
   "source": [
    "##### The popularity of Japanese restaurants and food in Vancouver is undeniable. From California rolls in sushi places, Ramen in West End, green tea desserts and fluffy cheesecake, the presence of this diverse type of cuisine has a huge impact in the city and seems to be everywhere, but we would like to know in which neighborhoods it is less present than others. \n",
    "##### This analysis will recommend an optimal neighborhood to open a new Japanese restaurant "
   ]
  },
  {
   "cell_type": "markdown",
   "metadata": {},
   "source": [
    "## Data <a name=\"data\"></a>"
   ]
  },
  {
   "cell_type": "markdown",
   "metadata": {},
   "source": [
    "#### 1) Vancouver Local Areas (Neighborhoods) \n",
    "##### We downloaded the following cvs file form the City of Vancouver Open Data Portal (https://opendata.vancouver.ca/explore/dataset/local-area-boundary/export/?location=12,49.2474,-123.12402) This file contains the names of the neighborhoods in the city, but also the central coordinates of each neighborhood. We can clean the data by dropping some columns and changing the data type to float to read the coordinates during the analysis. \n",
    "\n",
    "#### 2) Foursquare API venues (Japanese Restaurants) \n",
    "##### From the Foursquare API we used the get nearby venues and the Japanese restaurant category filter to generate a data frame of Japanese restaurants by neighborhood. \n"
   ]
  }
